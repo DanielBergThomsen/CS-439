{
 "cells": [
  {
   "cell_type": "code",
   "execution_count": null,
   "id": "1f0c1181-c933-40ba-8f20-e9c868a37786",
   "metadata": {},
   "outputs": [],
   "source": [
    "%load_ext tensorboard\n",
    "%load_ext autoreload\n",
    "%autoreload 2\n",
    "\n",
    "import torch\n",
    "from torch.utils.data import DataLoader\n",
    "from pytorch_lightning import Trainer\n",
    "from pytorch_lightning.loggers import TensorBoardLogger\n",
    "from networks import VAE\n",
    "from torchvision.datasets import MNIST\n",
    "from torchvision import transforms\n",
    "\n",
    "from os.path import isdir"
   ]
  },
  {
   "cell_type": "markdown",
   "id": "f710c1fe-cd22-4e4a-8a2a-e6581002edc0",
   "metadata": {},
   "source": [
    "## Initial experiment on MNIST VAE task"
   ]
  },
  {
   "cell_type": "code",
   "execution_count": null,
   "id": "c5b26eb7-7e58-43a2-acf2-5007af86461e",
   "metadata": {},
   "outputs": [],
   "source": [
    "# Load dataset\n",
    "PATH_DATASETS = 'data/'\n",
    "download = isdir(PATH_DATASETS + 'MNIST')\n",
    "train_ds = MNIST(PATH_DATASETS, train=True, download=download, transform=transforms.ToTensor())\n",
    "train_loader = DataLoader(train_ds, batch_size=256)\n",
    "val_ds = MNIST(PATH_DATASETS, train=False, download=download, transform=transforms.ToTensor())\n",
    "val_loader = DataLoader(val_ds, batch_size=256)\n",
    "\n",
    "# Setup network\n",
    "config_adam = {\n",
    "    'optimizer': torch.optim.Adam,\n",
    "    'optimizer_params': {'lr': 1e-3}\n",
    "}\n",
    "vae_adam = VAE(config_adam)\n",
    "\n",
    "# Train network\n",
    "logger = TensorBoardLogger(save_dir='lightning_logs', name='VAE-Adam', default_hp_metric=False)\n",
    "trainer = Trainer(\n",
    "    gpus=0,\n",
    "    max_epochs=2,\n",
    "    logger=logger\n",
    ")\n",
    "\n",
    "# Train the model ⚡\n",
    "trainer.fit(vae_adam, train_loader, val_loader)"
   ]
  },
  {
   "cell_type": "code",
   "execution_count": null,
   "id": "d92122de-c78e-44e5-92aa-bde8d885357e",
   "metadata": {},
   "outputs": [],
   "source": [
    "%tensorboard --logdir lightning_logs"
   ]
  }
 ],
 "metadata": {
  "kernelspec": {
   "display_name": "this_env_is_trash",
   "language": "python",
   "name": "this_env_is_trash"
  },
  "language_info": {
   "codemirror_mode": {
    "name": "ipython",
    "version": 3
   },
   "file_extension": ".py",
   "mimetype": "text/x-python",
   "name": "python",
   "nbconvert_exporter": "python",
   "pygments_lexer": "ipython3",
   "version": "3.9.11"
  }
 },
 "nbformat": 4,
 "nbformat_minor": 5
}
