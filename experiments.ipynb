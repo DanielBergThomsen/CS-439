{
 "cells": [
  {
   "cell_type": "code",
   "execution_count": null,
   "id": "1f0c1181-c933-40ba-8f20-e9c868a37786",
   "metadata": {},
   "outputs": [],
   "source": [
    "%load_ext tensorboard\n",
    "%matplotlib widget\n",
    "%load_ext autoreload\n",
    "%autoreload 2\n",
    "\n",
    "import torch\n",
    "from torch.utils.data import DataLoader\n",
    "import pandas as pd\n",
    "from pytorch_lightning import Trainer\n",
    "from pytorch_lightning.loggers import CSVLogger\n",
    "from torchvision.datasets import MNIST\n",
    "from torchvision import transforms\n",
    "from os.path import isdir\n",
    "import matplotlib.pyplot as plt\n",
    "import seaborn as sns\n",
    "\n",
    "from networks import VAE\n",
    "from optimizers.kfac import KFACOptimizer\n",
    "\n",
    "# Change if training with GPU\n",
    "NUM_GPUS = 0\n",
    "\n",
    "# Silence unnecessary Pytorch Lightning logs\n",
    "import logging\n",
    "logging.getLogger(\"pytorch_lightning\").setLevel(logging.WARNING)"
   ]
  },
  {
   "cell_type": "markdown",
   "id": "f710c1fe-cd22-4e4a-8a2a-e6581002edc0",
   "metadata": {},
   "source": [
    "## Initial experiment on MNIST VAE task"
   ]
  },
  {
   "cell_type": "code",
   "execution_count": null,
   "id": "c5b26eb7-7e58-43a2-acf2-5007af86461e",
   "metadata": {},
   "outputs": [],
   "source": [
    "# Setup experiment parameters\n",
    "MAX_EPOCHS = 1\n",
    "DATALOADER_WORKERS = 8\n",
    "SGD_MOMENTUM=0.99\n",
    "configs = [\n",
    "    {\n",
    "        'label': f'SGD with momentum $\\\\eta={SGD_MOMENTUM}$',\n",
    "        'optimizer': torch.optim.SGD,\n",
    "        'optimizer_params': {'lr': 1e-3,\n",
    "                             'weight_decay': 1e-5,\n",
    "                             'momentum': SGD_MOMENTUM,\n",
    "                             'nesterov': True}\n",
    "    },\n",
    "    {\n",
    "        'label': 'Adam',\n",
    "        'optimizer': torch.optim.Adam,\n",
    "        'optimizer_params': {'lr': 1e-3}\n",
    "    },\n",
    "    {\n",
    "        'label': 'KFAC',\n",
    "        'optimizer': KFACOptimizer,\n",
    "        'optimizer_params': {'lr': 1e-2, \n",
    "                             'momentum': 0, \n",
    "                             'stat_decay': 0.99, \n",
    "                             'damping': 1e-3, \n",
    "                             'kl_clip': 1e-2,\n",
    "                             'weight_decay': 1e-5, \n",
    "                             'TCov': 10, \n",
    "                             'TInv': 100}\n",
    "    }\n",
    "]\n",
    "\n",
    "# Load dataset\n",
    "PATH_DATASETS = 'data/'\n",
    "download = isdir(PATH_DATASETS + 'MNIST')\n",
    "train_ds = MNIST(PATH_DATASETS, train=True, download=download, transform=transforms.ToTensor())\n",
    "train_loader = DataLoader(train_ds, batch_size=256, num_workers=DATALOADER_WORKERS)\n",
    "val_ds = MNIST(PATH_DATASETS, train=False, download=download, transform=transforms.ToTensor())\n",
    "val_loader = DataLoader(val_ds, batch_size=256, num_workers=DATALOADER_WORKERS)"
   ]
  },
  {
   "cell_type": "code",
   "execution_count": null,
   "id": "b1d988a5-644f-494e-ae5d-ade41905c7d8",
   "metadata": {},
   "outputs": [],
   "source": [
    "# Iterate over configs, train and collect data\n",
    "for config in configs:\n",
    "    \n",
    "    # Config name\n",
    "    config_name = config['label']\n",
    "    \n",
    "    # Initialize VAE with the chosen config\n",
    "    vae = VAE(config)\n",
    "\n",
    "    # Train network\n",
    "    logger = CSVLogger(save_dir='logs/MNIST_VAE/', version=\"V0\", name=config_name)\n",
    "    trainer = Trainer(\n",
    "        enable_model_summary=False,\n",
    "        gpus=NUM_GPUS,\n",
    "        max_epochs=MAX_EPOCHS,\n",
    "        logger=logger\n",
    "    )\n",
    "\n",
    "    # Train the model\n",
    "    trainer.fit(vae, train_loader, val_loader)"
   ]
  },
  {
   "cell_type": "markdown",
   "id": "5b212584-afad-46d8-a1f3-2b7362385a25",
   "metadata": {},
   "source": [
    "## Plots"
   ]
  },
  {
   "cell_type": "code",
   "execution_count": null,
   "id": "dfb7e113-75b2-445f-b139-407f343c3c2b",
   "metadata": {},
   "outputs": [],
   "source": [
    "training_logs = []\n",
    "validation_logs = []\n",
    "for config in configs:\n",
    "    config_name = config['label']\n",
    "    \n",
    "    # Load training logs\n",
    "    train_df = pd.read_csv(f'logs/MNIST_VAE/{config_name}/V0/metrics.csv')\n",
    "    \n",
    "    # Add training losses\n",
    "    train_loss = train_df[~train_df.train_loss.isnull()][['train_loss', 'step']]\n",
    "    train_loss['Optimizer'] = config_name\n",
    "    training_logs += train_loss.T.to_dict().values()\n",
    "    \n",
    "    # Add validation losses\n",
    "    valid_loss = train_df[~train_df.val_loss.isnull()][['val_loss', 'step']]\n",
    "    valid_loss['Optimizer'] = config_name\n",
    "    validation_logs += valid_loss.T.to_dict().values()\n",
    "    \n",
    "training_df = pd.DataFrame(training_logs)\n",
    "validation_df = pd.DataFrame(validation_logs)"
   ]
  },
  {
   "cell_type": "code",
   "execution_count": null,
   "id": "24e9bd6c-d49b-475a-ac05-c9a97fae6046",
   "metadata": {},
   "outputs": [],
   "source": [
    "plt.close()\n",
    "sns.lineplot(data=training_df, x='step', y='train_loss', hue='Optimizer')\n",
    "plt.show()"
   ]
  },
  {
   "cell_type": "code",
   "execution_count": null,
   "id": "cddbc0e6-9b3f-42e2-ab02-52eae01cdc1b",
   "metadata": {},
   "outputs": [],
   "source": [
    "plt.close()\n",
    "sns.lineplot(data=validation_df, x='step', y='val_loss', hue='Optimizer')\n",
    "plt.show()"
   ]
  }
 ],
 "metadata": {
  "kernelspec": {
   "display_name": "this_env_is_trash",
   "language": "python",
   "name": "this_env_is_trash"
  },
  "language_info": {
   "codemirror_mode": {
    "name": "ipython",
    "version": 3
   },
   "file_extension": ".py",
   "mimetype": "text/x-python",
   "name": "python",
   "nbconvert_exporter": "python",
   "pygments_lexer": "ipython3",
   "version": "3.9.11"
  }
 },
 "nbformat": 4,
 "nbformat_minor": 5
}
