{
 "cells": [
  {
   "cell_type": "code",
   "execution_count": null,
   "id": "46459f90-1825-40ff-96c7-50a57f917e8e",
   "metadata": {},
   "outputs": [],
   "source": [
    "%matplotlib widget\n",
    "import matplotlib.pyplot as plt\n",
    "import pandas as pd\n",
    "import seaborn as sns"
   ]
  },
  {
   "cell_type": "code",
   "execution_count": null,
   "id": "76206551-4b78-4724-a4dc-2cf2c1348856",
   "metadata": {},
   "outputs": [],
   "source": [
    "batch_sizes = ['2000', '4000', '6000']\n",
    "LOGS_PATH = 'logs/experiment_1/'\n",
    "\n",
    "training_data = []\n",
    "validation_data = []\n",
    "for batch_size in batch_sizes:\n",
    "    \n",
    "    # Load results for the different optimizers\n",
    "    sgd = pd.read_csv(f'{LOGS_PATH}/SGD_{batch_size}/V0/metrics.csv')\n",
    "    adam = pd.read_csv(f'{LOGS_PATH}/Adam_{batch_size}/V0/metrics.csv')\n",
    "    kfac = pd.read_csv(f'{LOGS_PATH}/KFAC_dia_{batch_size}/V0/metrics.csv')\n",
    "    ekfac = pd.read_csv(f'{LOGS_PATH}/KFAC_eigen_{batch_size}/V0/metrics.csv')\n",
    "    \n",
    "    def _extract_values(optimizer, value_key, df):\n",
    "        if value_key == 'train_loss':\n",
    "            return [{\n",
    "                'Optimizer': optimizer,\n",
    "                'bs': batch_size,\n",
    "                'Negative log-likelihood': getattr(value, value_key),\n",
    "                'Epoch': value.epoch\n",
    "            } for value in df[[value_key, 'epoch']].itertuples(index=False)]\n",
    "        else:\n",
    "            return [{\n",
    "                'Optimizer': optimizer,\n",
    "                'bs': batch_size,\n",
    "                'Negative log-likelihood': getattr(value, value_key),\n",
    "                'Epoch': value.epoch\n",
    "            } for value in sgd[[value_key, 'epoch']].itertuples(index=False)]\n",
    "    \n",
    "    # Get training data\n",
    "    training_data += _extract_values('SGD with momentum', 'train_loss', sgd)\n",
    "    training_data += _extract_values('Adam', 'train_loss', adam)\n",
    "    training_data += _extract_values('KFAC', 'train_loss', kfac)\n",
    "    training_data += _extract_values('EKFAC', 'train_loss', ekfac)\n",
    "    \n",
    "    # Get validation data\n",
    "    validation_data += _extract_values('SGD with momentum', 'val_loss', sgd)\n",
    "    validation_data += _extract_values('Adam', 'val_loss', adam)\n",
    "    validation_data += _extract_values('KFAC', 'val_loss', kfac)\n",
    "    validation_data += _extract_values('EKFAC', 'val_loss', ekfac)\n",
    "    \n",
    "# Remove NaN values (because the logger keeps entries for both validation and loss we have to do this)\n",
    "training_df = pd.DataFrame(training_data).dropna()\n",
    "validation_df = pd.DataFrame(validation_data).dropna()"
   ]
  },
  {
   "cell_type": "code",
   "execution_count": null,
   "id": "c1cc97de-20b1-4b39-8cf1-6c835cee9e3c",
   "metadata": {},
   "outputs": [],
   "source": [
    "plt.close()\n",
    "sns.lineplot(data=training_df[training_df.bs=='2000'], x='Epoch', y='Negative log-likelihood', hue='Optimizer')\n",
    "plt.show()\n",
    "plt.savefig(f'figures/experiment_1_2000.png')"
   ]
  },
  {
   "cell_type": "code",
   "execution_count": null,
   "id": "983e3263-6283-4acd-89c0-34b7ce5688ef",
   "metadata": {},
   "outputs": [],
   "source": [
    "plt.close()\n",
    "sns.lineplot(data=training_df[training_df.bs=='4000'], x='Epoch', y='Negative log-likelihood', hue='Optimizer')\n",
    "plt.show()\n",
    "plt.savefig(f'figures/experiment_1_4000.png')"
   ]
  },
  {
   "cell_type": "code",
   "execution_count": null,
   "id": "a0bfd354-de9f-4897-bf91-b878ea12e65c",
   "metadata": {},
   "outputs": [],
   "source": [
    "plt.close()\n",
    "sns.lineplot(data=training_df[training_df.bs=='6000'], x='Epoch', y='Negative log-likelihood', hue='Optimizer')\n",
    "plt.show()\n",
    "plt.savefig(f'figures/experiment_1_6000.png')"
   ]
  }
 ],
 "metadata": {
  "kernelspec": {
   "display_name": "Python 3 (ipykernel)",
   "language": "python",
   "name": "python3"
  },
  "language_info": {
   "codemirror_mode": {
    "name": "ipython",
    "version": 3
   },
   "file_extension": ".py",
   "mimetype": "text/x-python",
   "name": "python",
   "nbconvert_exporter": "python",
   "pygments_lexer": "ipython3",
   "version": "3.9.12"
  }
 },
 "nbformat": 4,
 "nbformat_minor": 5
}
